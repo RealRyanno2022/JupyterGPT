{
 "cells": [
  {
   "cell_type": "code",
   "execution_count": null,
   "metadata": {},
   "outputs": [],
   "source": [
    "# Install the necessary libraries\n",
    "%pip install tiktoken wandb python-dotenv openai\n",
    "\n",
    "import os\n",
    "import openai\n",
    "import wandb\n",
    "from dotenv import load_dotenv\n",
    "# from tiktoken import Tokenizer\n",
    "\n",
    "load_dotenv()\n",
    "\n",
    "api_key = os.getenv(\"OPENAI_API_KEY\")\n",
    "\n",
    "# tiktoken_cache_dir = \"/Users/daniel/Downloads\"\n",
    "# os.environ[\"TIKTOKEN_CACHE_DIR\"] = tiktoken_cache_dir\n",
    "\n",
    "# tokenizer = Tokenizer()\n",
    "\n",
    "# If you're using tiktoken, make sure the path to the tiktoken file is valid\n",
    "# assert os.path.exists(os.path.join(tiktoken_cache_dir, \"da02b9d91e6159af431523b25754f7dabf401800.tiktoken\"))\n",
    "\n",
    "openai.api_key = api_key\n",
    "\n",
    "gpt_prompt = input(\"What prompt do you want to use?\")\n",
    "\n",
    "# Uncomment and fix if you need to count tokens\n",
    "# prompt_tokens = list(tokenizer.tokenize(gpt_prompt))\n",
    "# print(f\"The prompt contains {len(prompt_tokens)} tokens.\")\n",
    "\n",
    "message = [{\"role\": \"user\", \"content\": gpt_prompt}]\n",
    "response = openai.ChatCompletion.create(\n",
    "    model=\"gpt-3.5-turbo\",\n",
    "    messages=message,\n",
    "    temperature=0.2,\n",
    "    max_tokens=1000,\n",
    "    frequency_penalty=0.0\n",
    ")\n",
    "\n",
    "response_text = response['choices'][0]['message']['content']\n",
    "\n",
    "# Uncomment and fix if you need to count tokens\n",
    "# response_tokens = list(tokenizer.tokenize(response_text))\n",
    "# print(f\"The response contains {len(response_tokens)} tokens.\")\n",
    "\n",
    "# Uncomment and fix if you want to log results with Weights and Biases\n",
    "# wandb.init()  # Start a new run\n",
    "# prediction_table = wandb.Table(columns=[\"Prompt\", \"Response\"])  # , \"Prompt Tokens\", \"Response Tokens\"])\n",
    "# prediction_table.add_data(gpt_prompt, response_text)  # , len(prompt_tokens), len(response_tokens))\n",
    "# wandb.log({\"predictions\": prediction_table})\n",
    "# wandb.finish()  # Finish the run\n"
   ]
  }
 ],
 "metadata": {
  "kernelspec": {
   "display_name": "Python 3",
   "language": "python",
   "name": "python3"
  },
  "language_info": {
   "codemirror_mode": {
    "name": "ipython",
    "version": 3
   },
   "file_extension": ".py",
   "mimetype": "text/x-python",
   "name": "python",
   "nbconvert_exporter": "python",
   "pygments_lexer": "ipython3",
   "version": "3.11.3"
  },
  "orig_nbformat": 4
 },
 "nbformat": 4,
 "nbformat_minor": 2
}
